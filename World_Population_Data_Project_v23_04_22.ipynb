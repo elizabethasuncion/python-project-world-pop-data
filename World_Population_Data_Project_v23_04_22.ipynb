{
  "nbformat": 4,
  "nbformat_minor": 0,
  "metadata": {
    "colab": {
      "provenance": [],
      "collapsed_sections": [
        "jZ8bnn2M2qE7"
      ]
    },
    "kernelspec": {
      "name": "python3",
      "display_name": "Python 3"
    },
    "language_info": {
      "name": "python"
    }
  },
  "cells": [
    {
      "cell_type": "markdown",
      "source": [
        "# Analyse World Population Data"
      ],
      "metadata": {
        "id": "E0wwgCORJtbV"
      }
    },
    {
      "cell_type": "markdown",
      "source": [
        "## Task"
      ],
      "metadata": {
        "id": "1G7miXBct4Ij"
      }
    },
    {
      "cell_type": "markdown",
      "source": [
        "Find out what might make countries better.\n",
        "1. Have a look at the variables, understand what they are.\n",
        "2. Pick a variable which interests you in a country.\n",
        "2. Which other variables are associated with your target variable? Formulate several hypotheses.\n",
        "3. Explore each hypothesis.\n",
        "    - Make plots and/or compute statistics.\n",
        "    - Write a short conclusion, refer to the justifications you found in the data."
      ],
      "metadata": {
        "id": "QwBMGcy3J641"
      }
    },
    {
      "cell_type": "markdown",
      "source": [
        "## Dataset description"
      ],
      "metadata": {
        "id": "s72i_jsqJ2xD"
      }
    },
    {
      "cell_type": "markdown",
      "source": [
        "_Source: https://www.kaggle.com/datasets/madhurpant/world-population-data\n",
        "  (See the bottom of this notebook for the steps to re-create it)_\n",
        "\n",
        "This dataset describes 192 countries and their populations. Here are the columns, grouped by topic:\n",
        "\n",
        "1. Height and weight:\n",
        "    - male_height\n",
        "    - female_height\n",
        "    - male_weight\n",
        "    - female_weight\n",
        "    - male_bmi\n",
        "    - female_bmi\n",
        "\n",
        "2. Life expectancy:\n",
        "    - male_life_expectancy\n",
        "    - female_life_expectancy\n",
        "    - birth_rate\n",
        "    - death_rate\n",
        "\n",
        "3. Population density:\n",
        "    - area\n",
        "    - population\n",
        "    - pop_per_km_sq\n",
        "\n",
        "4. Quality of life:\n",
        "    - stability\n",
        "    - rights\n",
        "    - health\n",
        "    - safety\n",
        "    - climate\n",
        "    - costs\n",
        "    - popularity\n",
        "\n",
        "5. Other:\n",
        "    - iq\n",
        "    - education_expenditure_per_inhabitant\n",
        "    - daily_max_temp\n"
      ],
      "metadata": {
        "id": "Zar5Nc41zTIk"
      }
    },
    {
      "cell_type": "markdown",
      "source": [
        "## Analysis"
      ],
      "metadata": {
        "id": "ZviCHcBXuAi1"
      }
    },
    {
      "cell_type": "code",
      "source": [
        "import pandas as pd\n",
        "import seaborn as sns\n",
        "import numpy as np\n",
        "import statistics as st\n",
        "import matplotlib.pyplot as plt\n",
        "import scipy\n",
        "\n",
        "# From https://drive.google.com/file/d/181fFa4h4EigLpMlyu3DXaptm41tXVrNS/view\n",
        "df = pd.read_csv(\n",
        "    \"https://drive.google.com/uc?id=181fFa4h4EigLpMlyu3DXaptm41tXVrNS\",\n",
        "    index_col=0,\n",
        ")\n",
        "df.shape"
      ],
      "metadata": {
        "id": "g5ymLYlCzQ5w"
      },
      "execution_count": null,
      "outputs": []
    },
    {
      "cell_type": "code",
      "source": [
        "df.columns"
      ],
      "metadata": {
        "id": "dqu65t9OuDsI"
      },
      "execution_count": null,
      "outputs": []
    },
    {
      "cell_type": "code",
      "source": [
        "df[df.columns[::-1]].head()"
      ],
      "metadata": {
        "id": "q3jcoXjAzwXW"
      },
      "execution_count": null,
      "outputs": []
    },
    {
      "cell_type": "code",
      "source": [
        "df['education_expenditure_per_inhabitant'].str.replace(',','')\n",
        "df['education_expenditure_per_inhabitant'] = df['education_expenditure_per_inhabitant'].str.replace(',','')\n",
        "df['education_expenditure_per_inhabitant'] = df['education_expenditure_per_inhabitant'].astype('Int64')"
      ],
      "metadata": {
        "id": "GkFctRWrWJYj"
      },
      "execution_count": null,
      "outputs": []
    },
    {
      "cell_type": "code",
      "source": [
        "df.info()"
      ],
      "metadata": {
        "id": "zQ7ZyfV7MgKr"
      },
      "execution_count": null,
      "outputs": []
    },
    {
      "cell_type": "code",
      "source": [
        "df.describe()"
      ],
      "metadata": {
        "id": "eXyFw_9yQU-v"
      },
      "execution_count": null,
      "outputs": []
    },
    {
      "cell_type": "code",
      "source": [
        "import matplotlib.pyplot as plt\n",
        "\n",
        "fig, ax = plt.subplots(figsize=(25,10))\n",
        "sns.heatmap(df.corr(method=\"kendall\"), annot=True, fmt=\".3f\", ax=ax);"
      ],
      "metadata": {
        "id": "-9DhQVp0zsOS"
      },
      "execution_count": null,
      "outputs": []
    },
    {
      "cell_type": "code",
      "source": [
        "correlations1 = df.corr()['iq'].dropna()\n",
        "print(correlations1.sort_values(ascending=False))"
      ],
      "metadata": {
        "id": "tmgm9tTkWJQU"
      },
      "execution_count": null,
      "outputs": []
    },
    {
      "cell_type": "markdown",
      "source": [
        "Hypothesis"
      ],
      "metadata": {
        "id": "1YILIOPL2tUg"
      }
    },
    {
      "cell_type": "code",
      "source": [
        "columns_of_interest1 = ['iq', 'health', 'birth_rate',\n",
        "        'male_life_expectancy', 'female_life_expectancy', \n",
        "        'death_rate', 'male_height', 'female_height', \n",
        "        'male_weight', 'female_weight','male_bmi', 'female_bmi']\n",
        "df_iq_health = df[columns_of_interest1]"
      ],
      "metadata": {
        "id": "HhtojFf_VA8k"
      },
      "execution_count": null,
      "outputs": []
    },
    {
      "cell_type": "code",
      "source": [
        "fig, ax = plt.subplots(figsize=(25,10))\n",
        "sns.heatmap(df_iq_health.corr(method=\"kendall\"), annot=True, fmt=\".3f\", ax=ax)\n"
      ],
      "metadata": {
        "id": "Jwfved1yVA5l"
      },
      "execution_count": null,
      "outputs": []
    },
    {
      "cell_type": "code",
      "source": [
        "sns.lmplot(data=df_iq_health, x= 'iq', y= 'female_life_expectancy', line_kws = {'color': 'red'} )\n"
      ],
      "metadata": {
        "id": "3-Yy_VeFbkRz"
      },
      "execution_count": null,
      "outputs": []
    },
    {
      "cell_type": "code",
      "source": [
        "sns.lmplot(data=df_iq_health, x= 'iq', y= 'male_life_expectancy', line_kws = {'color': 'purple'})"
      ],
      "metadata": {
        "id": "PztCOKZFcrHl"
      },
      "execution_count": null,
      "outputs": []
    },
    {
      "cell_type": "code",
      "source": [
        "sns.lineplot(data = df_iq_health, x= 'iq', y= 'birth_rate', color = 'green' )\n",
        "sns.regplot(data = df_iq_health, x= 'iq', y= 'birth_rate' )\n",
        "plt.xlabel('IQ')\n",
        "plt.ylabel('Birth Rate')\n",
        "plt.title('Relationship between IQ and Birth Rate')\n",
        "plt.show()"
      ],
      "metadata": {
        "id": "Gf4xQM4izwGW"
      },
      "execution_count": null,
      "outputs": []
    },
    {
      "cell_type": "code",
      "source": [
        "sns.lineplot(data = df_iq_health, x= 'iq', y= 'death_rate', color = 'black' )\n",
        "sns.regplot(data = df_iq_health, x= 'iq', y= 'death_rate' )\n",
        "plt.xlabel('IQ')\n",
        "plt.ylabel('Death Rate')\n",
        "plt.title('Relationship between IQ and Death Rate')\n",
        "plt.show()"
      ],
      "metadata": {
        "id": "LMfLe_Lyzv4f"
      },
      "execution_count": null,
      "outputs": []
    },
    {
      "cell_type": "code",
      "source": [],
      "metadata": {
        "id": "DDK6Tv3Zzvvt"
      },
      "execution_count": null,
      "outputs": []
    },
    {
      "cell_type": "code",
      "source": [
        "sns.barplot(data = df_iq_health, x='female_life_expectancy', y= 'iq')\n",
        "plt.title('Distribution of IQ Scores for Different Categories of Life Expectancy')\n",
        "plt.show()"
      ],
      "metadata": {
        "id": "9m4Xt_TLgP-G"
      },
      "execution_count": null,
      "outputs": []
    },
    {
      "cell_type": "code",
      "source": [
        "df['iq'].min()"
      ],
      "metadata": {
        "id": "LyvQ8ZxzlLgC"
      },
      "execution_count": null,
      "outputs": []
    },
    {
      "cell_type": "code",
      "source": [
        "sns.lineplot(data = df_iq_health, x='female_life_expectancy', y= 'iq')"
      ],
      "metadata": {
        "id": "eoTNe1U8GBR1"
      },
      "execution_count": null,
      "outputs": []
    },
    {
      "cell_type": "code",
      "source": [
        "columns_of_interest2 = ['iq',  'health', 'rights',  'daily_max_temp', \n",
        "        'stability','safety','education_expenditure_per_inhabitant', \n",
        "        'climate', 'costs', 'popularity']\n",
        "df_iq_quality = df[columns_of_interest2]\n",
        "fig, ax = plt.subplots(figsize=(25,10))\n",
        "sns.heatmap(df_iq_quality.corr(method=\"kendall\"), annot=True, fmt=\".3f\", ax=ax)"
      ],
      "metadata": {
        "id": "i8alKmVaVA2b"
      },
      "execution_count": null,
      "outputs": []
    },
    {
      "cell_type": "code",
      "source": [
        "sns.lineplot(data = df_iq_quality, x= 'iq', y= 'safety', color = 'red' )\n",
        "sns.regplot(data = df_iq_quality, x= 'iq', y= 'safety' )\n",
        "plt.xlabel('IQ')\n",
        "plt.ylabel('Safety')\n",
        "plt.title('Relationship between IQ and Safety')\n",
        "plt.show()"
      ],
      "metadata": {
        "id": "FF3yC2b32_J_"
      },
      "execution_count": null,
      "outputs": []
    },
    {
      "cell_type": "code",
      "source": [
        "sns.lineplot(data = df_iq_quality, x= 'iq', y= 'stability', color = 'pink' )\n",
        "sns.regplot(data = df_iq_quality, x= 'iq', y= 'stability' )\n",
        "plt.xlabel('IQ')\n",
        "plt.ylabel('Stability')\n",
        "plt.title('Relationship between IQ and Stability')\n",
        "plt.show()"
      ],
      "metadata": {
        "id": "iFZSSJbl2_DL"
      },
      "execution_count": null,
      "outputs": []
    },
    {
      "cell_type": "code",
      "source": [
        "sns.lineplot(data = df_iq_quality, x= 'iq', y= 'rights', color = 'yellow' )\n",
        "sns.regplot(data = df_iq_quality, x= 'iq', y= 'rights' )\n",
        "plt.xlabel('IQ')\n",
        "plt.ylabel('Rights')\n",
        "plt.title('Relationship between IQ and Rights')\n",
        "plt.show()"
      ],
      "metadata": {
        "id": "Kkj9lzgA2-7F"
      },
      "execution_count": null,
      "outputs": []
    },
    {
      "cell_type": "code",
      "source": [
        "correlations2 = df.corr()['education_expenditure_per_inhabitant'].dropna()\n",
        "print(correlations2.sort_values(ascending=False))"
      ],
      "metadata": {
        "id": "SMxUxhB5WI_q"
      },
      "execution_count": null,
      "outputs": []
    },
    {
      "cell_type": "code",
      "source": [
        "columns_of_interest3 = ['education_expenditure_per_inhabitant',  'rights', \n",
        "        'stability', 'health', 'iq', 'daily_max_temp', 'climate', 'costs', \n",
        "        'safety', 'popularity']\n",
        "df_edexp_quality = df[columns_of_interest3]\n",
        "sns.heatmap(df_edexp_quality.corr(), \n",
        "            xticklabels=True, \n",
        "            yticklabels=True,\n",
        "            annot=True);"
      ],
      "metadata": {
        "id": "NFcbhn7BVAy6"
      },
      "execution_count": null,
      "outputs": []
    },
    {
      "cell_type": "code",
      "source": [
        "columns_of_interest4 = ['health', \n",
        "        'birth_rate', 'male_life_expectancy', 'female_life_expectancy', \n",
        "        'male_height', 'female_height', 'male_weight', 'female_weight',\n",
        "        'male_bmi', 'female_bmi', 'death_rate']\n",
        "df_edexp_health = df[columns_of_interest4]\n",
        "sns.heatmap(df_edexp_health.corr(), \n",
        "            xticklabels=True, \n",
        "            yticklabels=True,\n",
        "            annot=True);"
      ],
      "metadata": {
        "id": "R8ncQPjPDSIM"
      },
      "execution_count": null,
      "outputs": []
    },
    {
      "cell_type": "code",
      "source": [
        "# calculate correlation coeff between health and all other variables and sort\n",
        "correlations3 = df.corr()['health'].dropna()\n",
        "print(correlations3.sort_values(ascending=False))"
      ],
      "metadata": {
        "id": "TEvOAcJ6VAsl"
      },
      "execution_count": null,
      "outputs": []
    },
    {
      "cell_type": "code",
      "source": [
        "# sort using absolute value to rank strongest correlations\n",
        "correlations3 = df.corr()['health'].dropna()\n",
        "print(abs(correlations3).sort_values(ascending=False))"
      ],
      "metadata": {
        "id": "gEvWbZ4ZwWSy"
      },
      "execution_count": null,
      "outputs": []
    },
    {
      "cell_type": "code",
      "source": [
        "# create dataframe with variables of interest\n",
        "columns_of_interest5 = ['health', 'birth_rate','male_life_expectancy', \n",
        "                        'female_life_expectancy','iq', 'male_height', \n",
        "                        'female_height', 'male_weight', 'female_weight',\n",
        "                        'male_bmi', 'female_bmi','death_rate']\n",
        "df_health = df[columns_of_interest5]\n",
        "\n",
        "# create heat map with variables of interest - Kendall's tau is not affected by outliers\n",
        "fig, ax = plt.subplots(figsize=(25,10))\n",
        "sns.heatmap(df_health.corr(method=\"kendall\"), annot=True, fmt=\".3f\", ax=ax)\n",
        "plt.title('Relationship between Health and Health Metrics')"
      ],
      "metadata": {
        "id": "Xu0-TyDoVAlM"
      },
      "execution_count": null,
      "outputs": []
    },
    {
      "cell_type": "code",
      "source": [
        "fig, ax = plt.subplots(figsize=(25,10))\n",
        "sns.heatmap(df_health.corr(), \n",
        "            xticklabels=True, \n",
        "            yticklabels=True,\n",
        "            annot=True);"
      ],
      "metadata": {
        "id": "rrlkN9c8VAbN"
      },
      "execution_count": null,
      "outputs": []
    },
    {
      "cell_type": "code",
      "source": [
        "sns.lmplot(data = df_health, x= 'health', y= 'female_life_expectancy', line_kws = {'color': 'orange'} )\n",
        "plt.xlabel('Health')\n",
        "plt.ylabel('Female Life Expectancy')\n",
        "plt.title('Relationship between Health and Female Life Expectancy')\n",
        "plt.show()\n"
      ],
      "metadata": {
        "id": "_LYeitM5hrD1"
      },
      "execution_count": null,
      "outputs": []
    },
    {
      "cell_type": "code",
      "source": [
        "sns.lmplot(data = df_health, x= 'health', y= 'male_life_expectancy', line_kws = {'color': 'purple'} )\n",
        "plt.xlabel('Health')\n",
        "plt.ylabel('Male Life Expectancy')\n",
        "plt.title('Relationship between Health and Male Life Expectancy')\n",
        "plt.show()"
      ],
      "metadata": {
        "id": "36exFkHBhq_7"
      },
      "execution_count": null,
      "outputs": []
    },
    {
      "cell_type": "code",
      "source": [
        "sns.lmplot(data = df_health, x= 'health', y= 'iq', line_kws = {'color': 'turquoise'} )\n",
        "plt.xlabel('Health')\n",
        "plt.ylabel('IQ')\n",
        "plt.title('Relationship between Health and IQ')\n",
        "plt.show()"
      ],
      "metadata": {
        "id": "cSpgBlYk8zU9"
      },
      "execution_count": null,
      "outputs": []
    },
    {
      "cell_type": "code",
      "source": [
        "sns.lmplot(data = df_health, x= 'health', y= 'birth_rate', line_kws = {'color': 'green'} )\n",
        "plt.xlabel('Health')\n",
        "plt.ylabel('Birth Rate')\n",
        "plt.title('Relationship between Health and Birth Rate')\n",
        "plt.show()"
      ],
      "metadata": {
        "id": "bvwgMXB59bZ9"
      },
      "execution_count": null,
      "outputs": []
    },
    {
      "cell_type": "code",
      "source": [
        "sns.lmplot(data = df_health, x= 'health', y= 'death_rate', line_kws = {'color': 'black'} )\n",
        "plt.xlabel('Health')\n",
        "plt.ylabel('Death Rate')\n",
        "plt.title('Relationship between Health and Death Rate')\n",
        "plt.show()"
      ],
      "metadata": {
        "id": "ciflpPD_96Ce"
      },
      "execution_count": null,
      "outputs": []
    },
    {
      "cell_type": "code",
      "source": [
        "sns.lineplot(data = df_health, x='health', y= 'female_life_expectancy', color = 'orange')\n",
        "sns.regplot(data = df_health, x='health', y= 'female_life_expectancy')\n",
        "plt.xlabel('Health')\n",
        "plt.ylabel('Female Life Expectancy')\n",
        "plt.title('Relationship between Health and Female Life Expectancy')\n",
        "plt.show()"
      ],
      "metadata": {
        "id": "l9vMLJB38IrO"
      },
      "execution_count": null,
      "outputs": []
    },
    {
      "cell_type": "code",
      "source": [
        "sns.lineplot(data = df_health, x='health', y= 'iq')"
      ],
      "metadata": {
        "id": "TQ3POYfV8PC3"
      },
      "execution_count": null,
      "outputs": []
    },
    {
      "cell_type": "code",
      "source": [
        "columns_of_interest6 = ['health', 'rights','stability','safety',\n",
        "                        'education_expenditure_per_inhabitant', 'climate',\n",
        "                        'costs', 'popularity']\n",
        "df_health_qol = df[columns_of_interest6]\n",
        "fig, ax = plt.subplots(figsize=(10,5))\n",
        "sns.heatmap(df_health_qol.corr(), \n",
        "            xticklabels=True, \n",
        "            yticklabels=True,\n",
        "            annot=True);"
      ],
      "metadata": {
        "id": "HPzVknpmR7eC"
      },
      "execution_count": null,
      "outputs": []
    },
    {
      "cell_type": "code",
      "source": [
        "sns.lmplot(data = df_health_qol, x= 'health', y= 'rights', line_kws = {'color': 'blue'})\n",
        "plt.xlabel('Health Score')\n",
        "plt.ylabel('Rights Score')\n",
        "plt.title('Relationship between Health and Rights')\n",
        "plt.show()"
      ],
      "metadata": {
        "id": "7LdALHjfTsID"
      },
      "execution_count": null,
      "outputs": []
    },
    {
      "cell_type": "code",
      "source": [
        "sns.lmplot(data = df_health_qol, x= 'health', y= 'stability', line_kws = {'color': 'pink'})\n",
        "plt.xlabel('Health Score')\n",
        "plt.ylabel('Stability Score')\n",
        "plt.title('Relationship between Health and Stability')\n",
        "plt.show()"
      ],
      "metadata": {
        "id": "s_CMyiPYTsA2"
      },
      "execution_count": null,
      "outputs": []
    },
    {
      "cell_type": "code",
      "source": [
        "sns.lmplot(data = df_health_qol, x= 'health', y= 'safety', line_kws = {'color': 'red'})\n",
        "plt.xlabel('Health Score')\n",
        "plt.ylabel('Safety Score')\n",
        "plt.title('Relationship between Health and Safety')\n",
        "plt.show()"
      ],
      "metadata": {
        "id": "IRxGDpq_Tr5T"
      },
      "execution_count": null,
      "outputs": []
    },
    {
      "cell_type": "code",
      "source": [
        "sns.displot(x = df[\"safety\"])"
      ],
      "metadata": {
        "id": "xRDleI4ITrtA"
      },
      "execution_count": null,
      "outputs": []
    },
    {
      "cell_type": "code",
      "source": [
        "df_health.describe()"
      ],
      "metadata": {
        "id": "etjF7fu1zsLD"
      },
      "execution_count": null,
      "outputs": []
    },
    {
      "cell_type": "code",
      "source": [
        "df['health'].describe()"
      ],
      "metadata": {
        "id": "Sz-OSvQBvUVW"
      },
      "execution_count": null,
      "outputs": []
    },
    {
      "cell_type": "code",
      "source": [
        "sns.displot(x = df[\"health\"])"
      ],
      "metadata": {
        "id": "0yOMm0sxhq6u"
      },
      "execution_count": null,
      "outputs": []
    },
    {
      "cell_type": "code",
      "source": [
        "df[\"health\"].dropna().sort_values(ascending=False)"
      ],
      "metadata": {
        "id": "gw4E0RZWhqvl"
      },
      "execution_count": null,
      "outputs": []
    },
    {
      "cell_type": "code",
      "source": [
        "scatterplot1 = sns.scatterplot(x = 'health', y = 'health', data = df)"
      ],
      "metadata": {
        "id": "4Eh4UbeJhqmf"
      },
      "execution_count": null,
      "outputs": []
    },
    {
      "cell_type": "code",
      "source": [
        "# calculate correlation coeff between health and all other variables and sort\n",
        "correlations4 = df.corr()['female_bmi'].dropna()\n",
        "print(correlations4.sort_values(ascending=False))\n",
        "print(abs(correlations4.sort_values(ascending=False)))"
      ],
      "metadata": {
        "id": "fojQW7j1vUSV"
      },
      "execution_count": null,
      "outputs": []
    },
    {
      "cell_type": "markdown",
      "source": [
        "# How the dataframe was created"
      ],
      "metadata": {
        "id": "jZ8bnn2M2qE7"
      }
    },
    {
      "cell_type": "markdown",
      "source": [
        "\n",
        "This section is not relevant for doing the project, you can ignore it.\n",
        "\n",
        "In case the dataset needs to be recreated, or if you are a very curious student, this is how it was done (on a local machine, _not_ in Colab):\n",
        "\n",
        "```python\n",
        "import pandas as pd\n",
        "import glob\n",
        "from functools import reduce\n",
        "\n",
        "# 1. Download and extract data from\n",
        "#    https://www.kaggle.com/datasets/madhurpant/world-population-data\n",
        "\n",
        "# 2. Merge all dataframes\n",
        "joint_df = reduce(\n",
        "    lambda df1, df2: df1.merge(df2, on=\"country\", how=\"outer\"),\n",
        "    [pd.read_csv(path) for path in glob.glob(\"world-population-data/*\")],\n",
        ")\n",
        "\n",
        "# 3. Make \"country\" the index\n",
        "joint_df.set_index([\"country\"], inplace=True)\n",
        "\n",
        "# 4. Save the result\n",
        "joint_df.to_csv(\"world-population-data.csv\")\n",
        "```"
      ],
      "metadata": {
        "id": "Ar62GwECJcpl"
      }
    }
  ]
}